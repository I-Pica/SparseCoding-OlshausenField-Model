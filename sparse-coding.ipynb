{
 "cells": [
  {
   "cell_type": "markdown",
   "metadata": {},
   "source": [
    "# Sparse coding"
   ]
  },
  {
   "cell_type": "code",
   "execution_count": 2,
   "metadata": {},
   "outputs": [],
   "source": [
    "import numpy as np\n",
    "import matplotlib.pyplot as plt\n",
    "import network\n",
    "from tqdm import tqdm\n",
    "import scipy.io as sio\n",
    "from datetime import datetime"
   ]
  },
  {
   "cell_type": "markdown",
   "metadata": {},
   "source": [
    "## Load data"
   ]
  },
  {
   "cell_type": "code",
   "execution_count": null,
   "metadata": {},
   "outputs": [],
   "source": [
    "# datasets from http://www.rctn.org/bruno/sparsenet/\n",
    "mat_images = sio.loadmat('datasets/IMAGES.mat')\n",
    "imgs = mat_images['IMAGES']"
   ]
  },
  {
   "cell_type": "markdown",
   "metadata": {},
   "source": [
    "## Run simulation"
   ]
  },
  {
   "cell_type": "code",
   "execution_count": null,
   "metadata": {},
   "outputs": [],
   "source": [
    "np.random.seed(0)\n",
    "\n",
    "# Simulation constants\n",
    "H, W, num_images = imgs.shape\n",
    "num_iter = 500 # number of iterations\n",
    "nt_max = 1000 # Maximum number of simulation time\n",
    "batch_size = 250 # Batch size\n",
    "\n",
    "sz = 8 # image patch size\n",
    "num_units = 100 # number of neurons (units)\n",
    "\n",
    "eps = 1e-2 # small value which determines convergence\n",
    "error_list = [] # List to save errors\n",
    "\n",
    "# Define model\n",
    "model = network.OlshausenField1996Model(num_inputs=sz**2, num_units=num_units,\n",
    "                                        batch_size=batch_size,\n",
    "                                        lr_r=1e-2, lr_Phi=5e-2, lmda=0.4)\n",
    "\n",
    "# Run simulation\n",
    "for iter_ in tqdm(range(num_iter)):\n",
    "    # Get the coordinates of the upper left corner of clopping image randomly.\n",
    "    beginx = np.random.randint(0, W-sz, batch_size)\n",
    "    beginy = np.random.randint(0, H-sz, batch_size)\n",
    "\n",
    "    inputs_list = []\n",
    "\n",
    "    # Get images randomly\n",
    "    for i in range(batch_size):        \n",
    "        idx = np.random.randint(0, num_images)\n",
    "        img = imgs[:, :, idx]\n",
    "        clop = img[beginy[i]:beginy[i]+sz, beginx[i]:beginx[i]+sz].flatten()\n",
    "        inputs_list.append(clop - np.mean(clop))\n",
    "        \n",
    "    inputs = np.array(inputs_list) # Input image patches\n",
    "    \n",
    "    model.initialize_states() # Reset states\n",
    "    model.normalize_rows() # Normalize weights\n",
    "    \n",
    "    # Input an image patch until latent variables are converged \n",
    "    r_tm1 = model.r # set previous r (t minus 1)\n",
    "\n",
    "    for t in range(nt_max):\n",
    "        # Update r without update weights \n",
    "        error, r = model(inputs, training=False)\n",
    "        dr = r - r_tm1 \n",
    "\n",
    "        # Compute norm of r\n",
    "        dr_norm = np.linalg.norm(dr, ord=2) / (eps + np.linalg.norm(r_tm1, ord=2))\n",
    "        r_tm1 = r # update r_tm1\n",
    "        \n",
    "        # Check convergence of r, then update weights\n",
    "        if dr_norm < eps:\n",
    "            error, r = model(inputs, training=True)\n",
    "            break\n",
    "        \n",
    "        # If failure to convergence, break and print error\n",
    "        if t >= nt_max-2: \n",
    "            print(\"Error at patch:\", iter_)\n",
    "            print(dr_norm)\n",
    "            break\n",
    "   \n",
    "    error_list.append(model.calculate_total_error(error)) # Append errors\n",
    "\n",
    "    # Print moving average error\n",
    "    if iter_ % 100 == 99:  \n",
    "        print(\"\\n iter: \"+str(iter_+1)+\"/\"+str(num_iter)+\", Moving error:\",\n",
    "              np.mean(error_list[iter_-99:iter_]))"
   ]
  }
 ],
 "metadata": {
  "kernelspec": {
   "display_name": "base",
   "language": "python",
   "name": "python3"
  },
  "language_info": {
   "codemirror_mode": {
    "name": "ipython",
    "version": 3
   },
   "file_extension": ".py",
   "mimetype": "text/x-python",
   "name": "python",
   "nbconvert_exporter": "python",
   "pygments_lexer": "ipython3",
   "version": "3.9.15"
  },
  "orig_nbformat": 4
 },
 "nbformat": 4,
 "nbformat_minor": 2
}
